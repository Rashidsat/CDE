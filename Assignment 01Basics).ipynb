{
 "cells": [
  {
   "cell_type": "markdown",
   "metadata": {},
   "source": [
    "# Part -1 Python Basics (Variables)"
   ]
  },
  {
   "cell_type": "markdown",
   "metadata": {},
   "source": [
    "1. Print Your Name with your Father name and Date of birth using suitable escape sequence charactor"
   ]
  },
  {
   "cell_type": "code",
   "execution_count": null,
   "metadata": {},
   "outputs": [],
   "source": [
    "print (\"my name is\\t Rashid\\n my father nme is\\t Abdul sattar\\n my DOB is\\t 12th July 1983\") "
   ]
  },
  {
   "cell_type": "markdown",
   "metadata": {},
   "source": [
    "2. Write your small bio using variables and print it using print function"
   ]
  },
  {
   "cell_type": "code",
   "execution_count": null,
   "metadata": {},
   "outputs": [],
   "source": [
    "name = \"rashid\"\n",
    "fname = \"A Sattar\"\n",
    "age = 42\n",
    "add = \"Karachi\"\n",
    "prof = \"Data engineer\"\n",
    "\n",
    "print(\"my name is\" , name)\n",
    "print(\"my father name is\" , fname)\n",
    "print (\"my age is\", age) \n",
    "print (\"I live in \", add) \n",
    "print (\"I work as an \", prof) "
   ]
  },
  {
   "cell_type": "markdown",
   "metadata": {},
   "source": [
    "3. Write a program in which use all the operators we can use in Python"
   ]
  },
  {
   "cell_type": "code",
   "execution_count": null,
   "metadata": {},
   "outputs": [],
   "source": [
    "print (\" my mark sheet program \") \n",
    "eng = int(input('Enter your mrk of Eng...'))\n",
    "math = int(input('Enter your mrk of math..'))\n",
    "urd = int(input('Enter your mrk of urdu..'))\n",
    "sci = int(input('Enter your mrk of science...'))\n",
    "obt_mrk = eng+math+urd+sci \n",
    "tot_mrk = 400\n",
    "per = obt_mrk / tot_mrk * 100\n",
    "print (\"English\", eng)\n",
    "print (\"math\", math)\n",
    "print (\"Urdu\", urd)\n",
    "print (\"Science\", sci)\n",
    "print (\"you hv got\", obt_mrk , \"marks out of\", tot_mrk) \n",
    "print (\"According to your marks your per% is\", per)\n",
    "if per >= 80:\n",
    "    print (\"your grade = A+\")\n",
    "\n",
    "elif per >= 70:\n",
    "    print (\"your grade = A\")\n",
    "elif per >= 60:\n",
    "    print (\"your grade = B\")\n",
    "elif per >=50:\n",
    "        print (\"your grade = c\")\n",
    "else:\n",
    "        print (\"you r failed\")\n"
   ]
  },
  {
   "cell_type": "markdown",
   "metadata": {},
   "source": [
    "4. Completes the following steps of small task:\n",
    "    - Mention Marks of English , Islamiat and Maths out of 100 in 3 different variables\n",
    "    - Mention Variable of Total Marks and assign 300 to it\n",
    "    - Calculate Percentage"
   ]
  },
  {
   "cell_type": "code",
   "execution_count": null,
   "metadata": {},
   "outputs": [],
   "source": [
    "print (\" my mark sheet program \") \n",
    "eng = int(input('Enter your mrk of Eng...'))\n",
    "math = int(input('Enter your mrk of math..'))\n",
    "isl = int(input('Enter your mrk of science...'))\n",
    "obt_mrk = eng+math+isl \n",
    "tot_mrk = 300\n",
    "per = obt_mrk / tot_mrk * 100\n",
    "print (\"English\" , eng)\n",
    "print (\"Math\", math)\n",
    "print (\"Islamiat\", isl)\n",
    "print (\"you hv got\", obt_mrk , \"marks out of\", tot_mrk) \n",
    "print (\"According to your marks your per% is\", per)"
   ]
  },
  {
   "cell_type": "markdown",
   "metadata": {},
   "source": [
    "# Part -2 Python Basics (Conditional Statements)"
   ]
  },
  {
   "cell_type": "markdown",
   "metadata": {},
   "source": [
    "1) A company decided to give bonus of 5% to employee if his/her year of service is more than 5 years.\n",
    "Ask user for their salary and year of service and print the net bonus amount."
   ]
  },
  {
   "cell_type": "code",
   "execution_count": null,
   "metadata": {
    "vscode": {
     "languageId": "go"
    }
   },
   "outputs": [],
   "source": [
    "Print (\"***ABC Corporation***\")\n",
    "print (\"*** Employee Data Entry ***\")\n",
    "\n",
    "emp_numb = int(input(\"plz type your employee number\"))\n",
    "emp_nam = input(\"plz type your name\")\n",
    "net_sal = input(\"plz enter your net salary\")\n",
    "ser_year = int(input(\"plz type years of your service\"))\n",
    "net_bon = net_sal*5/100\n",
    "\n",
    "print (\"*** Employee Bonus Calculation ***\")\n",
    "\n",
    "print (\"Employee Number\", emp_numb)\n",
    "print (\"Employee Name\", emp_nam)\n",
    "print (\"Net Salary\" , net_sal)\n",
    "print (\"Years in service\", ser_year)\n",
    "if ser_year >= 5:\n",
    "\tprint (\"you r eligile for bonus.Rs\",net_sal+net_bon,\"is your net salary\")\n",
    "else:\n",
    "\tprint (\"you are not eligible for bonus\")\n",
    "\n",
    "\n"
   ]
  },
  {
   "cell_type": "markdown",
   "metadata": {},
   "source": [
    "\n",
    "2) Write a program to check whether a person is eligible for voting or not. (accept age from user) if age is greater than 17 eligible otherwise not eligible"
   ]
  },
  {
   "cell_type": "code",
   "execution_count": null,
   "metadata": {},
   "outputs": [],
   "source": [
    "Print (\"***ELECTION COMMISSION***\")\n",
    "print (\"*** CITIZEN DATA ENTRY ***\")\n",
    "\n",
    "CNIC = int(input(\"plz type CNIC Number\"))\n",
    "nam = input(\"plz type your name\")\n",
    "age = int(input(\"plz type your age\"))\n",
    "\n",
    "\n",
    "print (\"*** Eligibility of Citizen ***\")\n",
    "\n",
    "if age >= 18:\n",
    "\tprint (\"Congratulations .... you r eligile for vote\")\n",
    "else:\n",
    "\tprint (\"Sorry ! you are not eligile for vote\")"
   ]
  },
  {
   "cell_type": "markdown",
   "metadata": {},
   "source": [
    "\n",
    "3) Write a program to check whether a number entered by user is even or odd."
   ]
  },
  {
   "cell_type": "code",
   "execution_count": null,
   "metadata": {},
   "outputs": [],
   "source": [
    "num = int(input(\"plz enter number\"))\n",
    "if num %2 == 0:\n",
    "    print (num, \"is an even number\")\n",
    "else:\n",
    "    print (num, \"is an odd number\")\n"
   ]
  },
  {
   "cell_type": "markdown",
   "metadata": {},
   "source": []
  },
  {
   "cell_type": "markdown",
   "metadata": {},
   "source": [
    "4) Write a program to check whether a number is divisible by 7 or not.\n",
    "Show Answer"
   ]
  },
  {
   "cell_type": "code",
   "execution_count": null,
   "metadata": {},
   "outputs": [],
   "source": [
    "num = int(input(\"plz enter number\"))\n",
    "if num % 7 == 0:\n",
    "    print (num, \"is divisible by 7\")\n",
    "else:\n",
    "    print (num, \"is not divisible by 7\")"
   ]
  },
  {
   "cell_type": "markdown",
   "metadata": {},
   "source": [
    "5) Write a program to display \n",
    "\"Hello\" if a number entered by user is a multiple of five , otherwise print \"Bye\"."
   ]
  },
  {
   "cell_type": "code",
   "execution_count": null,
   "metadata": {},
   "outputs": [],
   "source": [
    "num = int(input(\"plz enter number\"))\n",
    "if num % 5 == 0:\n",
    "    print (\" Hello \")\n",
    "else:\n",
    "    print (\"  bye \")"
   ]
  },
  {
   "cell_type": "markdown",
   "metadata": {},
   "source": [
    "7) Write a program to display the last digit of a number.\n"
   ]
  },
  {
   "cell_type": "code",
   "execution_count": null,
   "metadata": {},
   "outputs": [],
   "source": [
    "number = int(input(\"plz enter number\"))\n",
    "last = number % 10\n",
    "print(f\"the last digit of {number} is {last}\")"
   ]
  },
  {
   "cell_type": "markdown",
   "metadata": {},
   "source": [
    "9) Take values of length and breadth of a rectangle from user and print if it is square or rectangle."
   ]
  },
  {
   "cell_type": "code",
   "execution_count": null,
   "metadata": {},
   "outputs": [],
   "source": [
    "length = int(input(\"plz enter length\"))\n",
    "breadth = int(input(\"plz enter breadth\"))\n",
    "if length == breadth:\n",
    "    print (\"this is square shape\")\n",
    "else:\n",
    "    print (\"this is rectangle\")"
   ]
  },
  {
   "cell_type": "markdown",
   "metadata": {},
   "source": [
    "10) Take two int values from user and print greatest among them."
   ]
  },
  {
   "cell_type": "code",
   "execution_count": null,
   "metadata": {},
   "outputs": [],
   "source": [
    "num1 = int(input(\"plz enter num1\"))\n",
    "num2 = int(input(\"plz enter num2\"))\n",
    "if num1 < num2:\n",
    "print (\"the greatest number is\",num2)\n",
    "elif num2<num1:\n",
    "print (\"the greatest number is\",num1) "
   ]
  },
  {
   "cell_type": "markdown",
   "metadata": {},
   "source": [
    "11) A shop will give discount of 10% if the cost of purchased quantity is more than 1000.\n",
    "Ask user for quantity\n",
    "Suppose, one unit will cost 100.\n",
    "Judge and print total cost for user."
   ]
  },
  {
   "cell_type": "code",
   "execution_count": null,
   "metadata": {},
   "outputs": [],
   "source": [
    "print (\"******xyz shop*****\")\n",
    "qty = int(input(\"plz type quantity\"))\n",
    "cost = 100\n",
    "t_cost = qty*cost\n",
    "print (\"your total cost is\", t_cost)\n",
    "if qty > 1000:\n",
    "    print (\"you are being offered 10% discount, just pay\", t_cost-t_cost*10/100)"
   ]
  },
  {
   "cell_type": "markdown",
   "metadata": {},
   "source": [
    "12) A school has following rules for grading system:\n",
    "\n",
    "a. Below 25 - F\n",
    "\n",
    "b. 25 to 45 - E\n",
    "\n",
    "c. 45 to 50 - D\n",
    "\n",
    "d. 50 to 60 - C\n",
    "\n",
    "e. 60 to 80 - B\n",
    "\n",
    "f. Above 80 - A\n",
    "\n",
    "Ask user to enter marks and print the corresponding grade."
   ]
  },
  {
   "cell_type": "code",
   "execution_count": null,
   "metadata": {},
   "outputs": [],
   "source": [
    "print (\" my mark sheet program \") \n",
    "nme = input(\"enter your name\")\n",
    "eng = int(input('Enter your mrk of Eng...'))\n",
    "math = int(input('Enter your mrk of math..'))\n",
    "urd = int(input('Enter your mrk of urdu..'))\n",
    "sci = int(input('Enter your mrk of science...'))\n",
    "obt_mrk = eng+math+urd+sci \n",
    "tot_mrk = 400\n",
    "per = obt_mrk / tot_mrk * 100\n",
    "print (\"English\", eng)\n",
    "print (\"math\", math)\n",
    "print (\"Urdu\", urd)\n",
    "print (\"Science\", sci)\n",
    "print (\"you hv got\", obt_mrk , \"marks out of\", tot_mrk) \n",
    "print (\"According to your marks your per% is\", per)\n",
    "if per >= 80:\n",
    "    print (\"your grade = A\")\n",
    "\n",
    "elif per >= 60:\n",
    "    print (\"your grade = B\")\n",
    "elif per >= 50:\n",
    "    print (\"your grade = C\")\n",
    "elif per >=45:\n",
    "        print (\"your grade = D\")\n",
    "elif per >=25:\n",
    "        print (\"your grade = E\")\n",
    "else:\n",
    "        print (\"you r failed\")\n"
   ]
  },
  {
   "cell_type": "markdown",
   "metadata": {},
   "source": [
    "14)A student will not be allowed to sit in exam if his/her attendence is less than 75%.\n",
    "\n",
    "Take following input from user\n",
    "\n",
    "- Number of classes held\n",
    "\n",
    "- Number of classes attended.\n",
    "\n",
    "And print\n",
    "\n",
    "- percentage of class attended\n",
    "\n",
    "- Is student is allowed to sit in exam or not.\n"
   ]
  },
  {
   "cell_type": "code",
   "execution_count": null,
   "metadata": {},
   "outputs": [],
   "source": [
    "held = int(input(\"plz enter total number of classes held\"))\n",
    "att = int(\"input(plz enter total number of classes held\"))\n",
    "per = att / held * 100\n",
    "if per >= 75:\n",
    " print ('you are allowed for exam. your attendance percentage is...', per)\n",
    "else:\n",
    " print ('you are not allowed for exam. your attendance percentage is...', per)"
   ]
  },
  {
   "cell_type": "markdown",
   "metadata": {},
   "source": [
    "15) Modify the above question to allow student to sit if he/she has medical cause. Ask user if he/she has medical cause or not ( 'Y' or 'N' ) and print accordingly."
   ]
  },
  {
   "cell_type": "code",
   "execution_count": null,
   "metadata": {},
   "outputs": [],
   "source": [
    "held = int(input(\"plz enter total number of classes held\"))\n",
    "att = int(\"input(plz enter total number of classes held\")\n",
    "per = att / held * 100\n",
    "if per >= 75:\n",
    " print ('you are allowed for exam. your attendance percentage is...', per)\n",
    "elif per <75:\n",
    "md = input('your attendance percentage is below 75%...if any medical cause, Answer with Y or N')\n",
    "if (med == 'Y') or (med == 'y'):\n",
    "    print ('you are allowed')\n",
    "else:\n",
    "    print ('you are not allowed')\n"
   ]
  },
  {
   "cell_type": "markdown",
   "metadata": {},
   "source": [
    "16) Write a program to check if a year is leap year or not.\n",
    "\n",
    "If a year is divisible by 4 then it is leap year but if the year is century year like 2000, 1900, 2100 then it must be divisible by 400."
   ]
  },
  {
   "cell_type": "code",
   "execution_count": null,
   "metadata": {},
   "outputs": [],
   "source": [
    "num = int(input(\"plz enter year\"))\n",
    "if (num % 4 == 0) or (num % 400 == 0) :\n",
    "    print (\" this is leap year \")\n",
    "else:\n",
    "    print (\" this is not leap year\")"
   ]
  },
  {
   "cell_type": "markdown",
   "metadata": {},
   "source": [
    "17) Ask user to enter age, gender ( M or F ), marital status ( Y or N ) and then using following rules print their place of service.\n",
    "\n",
    "if employee is female, then she will work only in urban areas.\n",
    "\n",
    "if employee is a male and age is in between 20 to 40 then he may work in anywhere\n",
    "\n",
    "if employee is male and age is in between 40 t0 60 then he will work in urban areas only.\n",
    "\n",
    "And any other input of age should print \"ERROR\""
   ]
  },
  {
   "cell_type": "code",
   "execution_count": null,
   "metadata": {},
   "outputs": [],
   "source": [
    "print (\"***XYZ Corporation***\")\n",
    "age = int(input(\"Enter employee age plz\"))\n",
    "gen = input(\"Enter Gender of employee plz\")\n",
    "ms = input (\" Enter your Marital Status plz\")\n",
    "if gen.lower ()== \"female\" :\n",
    "    print (\"you are posted in Urban\")\n",
    "elif gen.lower () == \"male\" and (age >19 and age< 41):\n",
    "    print (\"you may work anywhere\")\n",
    "elif gen.lower() == \"male\" and (age >40 and age< 61):\n",
    "    print (\"you may work in Urban\")\n",
    "else:\n",
    "    print (\"Error\")\n"
   ]
  },
  {
   "cell_type": "markdown",
   "metadata": {},
   "source": [
    "6) Write a program to calculate the electricity bill (accept number of unit from user) according to the following criteria :\n",
    "     Unit                                                     Price  \n",
    "uptp 100 units                                             no charge\n",
    "Next 200 units                                              Rs 5 per unit\n",
    "After 200 units                                             Rs 10 per unit\n",
    "(For example if input unit is 350 than total bill amount is Rs.3500\n",
    "(For example if input unit is 97 than total bill amount is Rs.0\n",
    "(For example if input unit is 150 than total bill amount is Rs.750"
   ]
  },
  {
   "cell_type": "code",
   "execution_count": null,
   "metadata": {},
   "outputs": [],
   "source": [
    "print = (\"***** Electricity Bill*****\")\n",
    "unit = int(input(\"Enter the total number of units\"))\n",
    "if unit <= 100:\n",
    "    print (\"Your bill is = 0\")\n",
    "elif unit > 100 and unit <=200:\n",
    "    print (\"Your bill is =\", unit*5)\n",
    "elif unit > 200 :\n",
    "    print (\"Your bill is =\", unit*10)\n"
   ]
  },
  {
   "cell_type": "markdown",
   "metadata": {},
   "source": [
    "13) Take input of age of 3 people by user and determine oldest and youngest among them."
   ]
  },
  {
   "cell_type": "code",
   "execution_count": null,
   "metadata": {},
   "outputs": [],
   "source": [
    "\n",
    "num1 = int(input(\"plz enter the age of man 1\"))\n",
    "num2 = int(input(\"plz enter the age of man 2\"))\n",
    "num3 = int(input(\"plz enter the age of man 3\"))\n",
    "\n",
    "print (\"the oldest age number is\",max(num1,num2,num3))\n",
    "print (\"the youngest age number is\" min(num1,num2,num3))"
   ]
  }
 ],
 "metadata": {
  "kernelspec": {
   "display_name": "Python 3 (ipykernel)",
   "language": "python",
   "name": "python3"
  },
  "language_info": {
   "codemirror_mode": {
    "name": "ipython",
    "version": 3
   },
   "file_extension": ".py",
   "mimetype": "text/x-python",
   "name": "python",
   "nbconvert_exporter": "python",
   "pygments_lexer": "ipython3",
   "version": "3.11.5"
  }
 },
 "nbformat": 4,
 "nbformat_minor": 2
}
